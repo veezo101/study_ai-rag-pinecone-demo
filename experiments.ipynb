{
 "cells": [
  {
   "cell_type": "code",
   "execution_count": 1,
   "id": "ef5f9949",
   "metadata": {},
   "outputs": [
    {
     "name": "stdout",
     "output_type": "stream",
     "text": [
      "Requirement already satisfied: pinecone in c:\\users\\avi\\source\\airepos\\ai-rag-pinecone-demo\\.venv\\lib\\site-packages (7.3.0)\n",
      "Requirement already satisfied: pinecone-text in c:\\users\\avi\\source\\airepos\\ai-rag-pinecone-demo\\.venv\\lib\\site-packages (0.11.0)\n",
      "Requirement already satisfied: pinecone-notebooks in c:\\users\\avi\\source\\airepos\\ai-rag-pinecone-demo\\.venv\\lib\\site-packages (0.1.1)\n",
      "Requirement already satisfied: python-dotenv in c:\\users\\avi\\source\\airepos\\ai-rag-pinecone-demo\\.venv\\lib\\site-packages (1.1.1)\n",
      "Requirement already satisfied: certifi>=2019.11.17 in c:\\users\\avi\\source\\airepos\\ai-rag-pinecone-demo\\.venv\\lib\\site-packages (from pinecone) (2025.10.5)\n",
      "Requirement already satisfied: pinecone-plugin-assistant<2.0.0,>=1.6.0 in c:\\users\\avi\\source\\airepos\\ai-rag-pinecone-demo\\.venv\\lib\\site-packages (from pinecone) (1.8.0)\n",
      "Requirement already satisfied: pinecone-plugin-interface<0.0.8,>=0.0.7 in c:\\users\\avi\\source\\airepos\\ai-rag-pinecone-demo\\.venv\\lib\\site-packages (from pinecone) (0.0.7)\n",
      "Requirement already satisfied: python-dateutil>=2.5.3 in c:\\users\\avi\\source\\airepos\\ai-rag-pinecone-demo\\.venv\\lib\\site-packages (from pinecone) (2.9.0.post0)\n",
      "Requirement already satisfied: typing-extensions>=3.7.4 in c:\\users\\avi\\source\\airepos\\ai-rag-pinecone-demo\\.venv\\lib\\site-packages (from pinecone) (4.15.0)\n",
      "Requirement already satisfied: urllib3>=1.26.5 in c:\\users\\avi\\source\\airepos\\ai-rag-pinecone-demo\\.venv\\lib\\site-packages (from pinecone) (2.5.0)\n",
      "Requirement already satisfied: mmh3<5.0.0,>=4.1.0 in c:\\users\\avi\\source\\airepos\\ai-rag-pinecone-demo\\.venv\\lib\\site-packages (from pinecone-text) (4.1.0)\n",
      "Requirement already satisfied: nltk<4.0.0,>=3.9.1 in c:\\users\\avi\\source\\airepos\\ai-rag-pinecone-demo\\.venv\\lib\\site-packages (from pinecone-text) (3.9.2)\n",
      "Requirement already satisfied: numpy>=1.21.5 in c:\\users\\avi\\source\\airepos\\ai-rag-pinecone-demo\\.venv\\lib\\site-packages (from pinecone-text) (2.3.4)\n",
      "Requirement already satisfied: requests<3.0.0,>=2.25.0 in c:\\users\\avi\\source\\airepos\\ai-rag-pinecone-demo\\.venv\\lib\\site-packages (from pinecone-text) (2.32.5)\n",
      "Requirement already satisfied: types-requests<3.0.0,>=2.25.0 in c:\\users\\avi\\source\\airepos\\ai-rag-pinecone-demo\\.venv\\lib\\site-packages (from pinecone-text) (2.32.4.20250913)\n",
      "Requirement already satisfied: click in c:\\users\\avi\\source\\airepos\\ai-rag-pinecone-demo\\.venv\\lib\\site-packages (from nltk<4.0.0,>=3.9.1->pinecone-text) (8.3.0)\n",
      "Requirement already satisfied: joblib in c:\\users\\avi\\source\\airepos\\ai-rag-pinecone-demo\\.venv\\lib\\site-packages (from nltk<4.0.0,>=3.9.1->pinecone-text) (1.5.2)\n",
      "Requirement already satisfied: regex>=2021.8.3 in c:\\users\\avi\\source\\airepos\\ai-rag-pinecone-demo\\.venv\\lib\\site-packages (from nltk<4.0.0,>=3.9.1->pinecone-text) (2025.10.23)\n",
      "Requirement already satisfied: tqdm in c:\\users\\avi\\source\\airepos\\ai-rag-pinecone-demo\\.venv\\lib\\site-packages (from nltk<4.0.0,>=3.9.1->pinecone-text) (4.67.1)\n",
      "Requirement already satisfied: packaging<25.0,>=24.2 in c:\\users\\avi\\source\\airepos\\ai-rag-pinecone-demo\\.venv\\lib\\site-packages (from pinecone-plugin-assistant<2.0.0,>=1.6.0->pinecone) (24.2)\n",
      "Requirement already satisfied: six>=1.5 in c:\\users\\avi\\source\\airepos\\ai-rag-pinecone-demo\\.venv\\lib\\site-packages (from python-dateutil>=2.5.3->pinecone) (1.17.0)\n",
      "Requirement already satisfied: charset_normalizer<4,>=2 in c:\\users\\avi\\source\\airepos\\ai-rag-pinecone-demo\\.venv\\lib\\site-packages (from requests<3.0.0,>=2.25.0->pinecone-text) (3.4.4)\n",
      "Requirement already satisfied: idna<4,>=2.5 in c:\\users\\avi\\source\\airepos\\ai-rag-pinecone-demo\\.venv\\lib\\site-packages (from requests<3.0.0,>=2.25.0->pinecone-text) (3.11)\n",
      "Requirement already satisfied: colorama in c:\\users\\avi\\source\\airepos\\ai-rag-pinecone-demo\\.venv\\lib\\site-packages (from click->nltk<4.0.0,>=3.9.1->pinecone-text) (0.4.6)\n"
     ]
    },
    {
     "name": "stderr",
     "output_type": "stream",
     "text": [
      "\n",
      "[notice] A new release of pip is available: 24.0 -> 25.3\n",
      "[notice] To update, run: python.exe -m pip install --upgrade pip\n"
     ]
    }
   ],
   "source": [
    "!pip install --upgrade pinecone pinecone-text pinecone-notebooks python-dotenv"
   ]
  },
  {
   "cell_type": "code",
   "execution_count": 2,
   "id": "6e4bde5d",
   "metadata": {},
   "outputs": [],
   "source": [
    "from dotenv import load_dotenv\n",
    "import os\n",
    "# Load environment variables from a local .env file (if present)\n",
    "load_dotenv()\n",
    "# Read the API key from the environment. Create a .env file with PINECONE_API_KEY=your_key if needed.\n",
    "api_key = os.getenv(\"PINECONE_API_KEY\")\n",
    "if not api_key:\n",
    "    raise ValueError(\"PINECONE_API_KEY not set. Create a .env file with PINECONE_API_KEY=your_key or set the environment variable.\")"
   ]
  },
  {
   "cell_type": "code",
   "execution_count": 3,
   "id": "8537d8b5",
   "metadata": {},
   "outputs": [
    {
     "name": "stderr",
     "output_type": "stream",
     "text": [
      "\n",
      "[notice] A new release of pip is available: 24.0 -> 25.3\n",
      "[notice] To update, run: python.exe -m pip install --upgrade pip\n"
     ]
    },
    {
     "name": "stdout",
     "output_type": "stream",
     "text": [
      "Requirement already satisfied: langchain in c:\\users\\avi\\source\\airepos\\ai-rag-pinecone-demo\\.venv\\lib\\site-packages (1.0.2)\n",
      "Requirement already satisfied: langchain-community in c:\\users\\avi\\source\\airepos\\ai-rag-pinecone-demo\\.venv\\lib\\site-packages (0.4)\n",
      "Requirement already satisfied: langchain-core<2.0.0,>=1.0.0 in c:\\users\\avi\\source\\airepos\\ai-rag-pinecone-demo\\.venv\\lib\\site-packages (from langchain) (1.0.1)\n",
      "Requirement already satisfied: langgraph<1.1.0,>=1.0.0 in c:\\users\\avi\\source\\airepos\\ai-rag-pinecone-demo\\.venv\\lib\\site-packages (from langchain) (1.0.1)\n",
      "Requirement already satisfied: pydantic<3.0.0,>=2.7.4 in c:\\users\\avi\\source\\airepos\\ai-rag-pinecone-demo\\.venv\\lib\\site-packages (from langchain) (2.12.3)\n",
      "Requirement already satisfied: langchain-classic<2.0.0,>=1.0.0 in c:\\users\\avi\\source\\airepos\\ai-rag-pinecone-demo\\.venv\\lib\\site-packages (from langchain-community) (1.0.0)\n",
      "Requirement already satisfied: SQLAlchemy<3.0.0,>=1.4.0 in c:\\users\\avi\\source\\airepos\\ai-rag-pinecone-demo\\.venv\\lib\\site-packages (from langchain-community) (2.0.44)\n",
      "Requirement already satisfied: requests<3.0.0,>=2.32.5 in c:\\users\\avi\\source\\airepos\\ai-rag-pinecone-demo\\.venv\\lib\\site-packages (from langchain-community) (2.32.5)\n",
      "Requirement already satisfied: PyYAML<7.0.0,>=5.3.0 in c:\\users\\avi\\source\\airepos\\ai-rag-pinecone-demo\\.venv\\lib\\site-packages (from langchain-community) (6.0.3)\n",
      "Requirement already satisfied: aiohttp<4.0.0,>=3.8.3 in c:\\users\\avi\\source\\airepos\\ai-rag-pinecone-demo\\.venv\\lib\\site-packages (from langchain-community) (3.13.1)\n",
      "Requirement already satisfied: tenacity!=8.4.0,<10.0.0,>=8.1.0 in c:\\users\\avi\\source\\airepos\\ai-rag-pinecone-demo\\.venv\\lib\\site-packages (from langchain-community) (9.1.2)\n",
      "Requirement already satisfied: dataclasses-json<0.7.0,>=0.6.7 in c:\\users\\avi\\source\\airepos\\ai-rag-pinecone-demo\\.venv\\lib\\site-packages (from langchain-community) (0.6.7)\n",
      "Requirement already satisfied: pydantic-settings<3.0.0,>=2.10.1 in c:\\users\\avi\\source\\airepos\\ai-rag-pinecone-demo\\.venv\\lib\\site-packages (from langchain-community) (2.11.0)\n",
      "Requirement already satisfied: langsmith<1.0.0,>=0.1.125 in c:\\users\\avi\\source\\airepos\\ai-rag-pinecone-demo\\.venv\\lib\\site-packages (from langchain-community) (0.4.38)\n",
      "Requirement already satisfied: httpx-sse<1.0.0,>=0.4.0 in c:\\users\\avi\\source\\airepos\\ai-rag-pinecone-demo\\.venv\\lib\\site-packages (from langchain-community) (0.4.3)\n",
      "Requirement already satisfied: numpy>=1.26.2 in c:\\users\\avi\\source\\airepos\\ai-rag-pinecone-demo\\.venv\\lib\\site-packages (from langchain-community) (2.3.4)\n",
      "Requirement already satisfied: aiohappyeyeballs>=2.5.0 in c:\\users\\avi\\source\\airepos\\ai-rag-pinecone-demo\\.venv\\lib\\site-packages (from aiohttp<4.0.0,>=3.8.3->langchain-community) (2.6.1)\n",
      "Requirement already satisfied: aiosignal>=1.4.0 in c:\\users\\avi\\source\\airepos\\ai-rag-pinecone-demo\\.venv\\lib\\site-packages (from aiohttp<4.0.0,>=3.8.3->langchain-community) (1.4.0)\n",
      "Requirement already satisfied: attrs>=17.3.0 in c:\\users\\avi\\source\\airepos\\ai-rag-pinecone-demo\\.venv\\lib\\site-packages (from aiohttp<4.0.0,>=3.8.3->langchain-community) (25.4.0)\n",
      "Requirement already satisfied: frozenlist>=1.1.1 in c:\\users\\avi\\source\\airepos\\ai-rag-pinecone-demo\\.venv\\lib\\site-packages (from aiohttp<4.0.0,>=3.8.3->langchain-community) (1.8.0)\n",
      "Requirement already satisfied: multidict<7.0,>=4.5 in c:\\users\\avi\\source\\airepos\\ai-rag-pinecone-demo\\.venv\\lib\\site-packages (from aiohttp<4.0.0,>=3.8.3->langchain-community) (6.7.0)\n",
      "Requirement already satisfied: propcache>=0.2.0 in c:\\users\\avi\\source\\airepos\\ai-rag-pinecone-demo\\.venv\\lib\\site-packages (from aiohttp<4.0.0,>=3.8.3->langchain-community) (0.4.1)\n",
      "Requirement already satisfied: yarl<2.0,>=1.17.0 in c:\\users\\avi\\source\\airepos\\ai-rag-pinecone-demo\\.venv\\lib\\site-packages (from aiohttp<4.0.0,>=3.8.3->langchain-community) (1.22.0)\n",
      "Requirement already satisfied: marshmallow<4.0.0,>=3.18.0 in c:\\users\\avi\\source\\airepos\\ai-rag-pinecone-demo\\.venv\\lib\\site-packages (from dataclasses-json<0.7.0,>=0.6.7->langchain-community) (3.26.1)\n",
      "Requirement already satisfied: typing-inspect<1,>=0.4.0 in c:\\users\\avi\\source\\airepos\\ai-rag-pinecone-demo\\.venv\\lib\\site-packages (from dataclasses-json<0.7.0,>=0.6.7->langchain-community) (0.9.0)\n",
      "Requirement already satisfied: langchain-text-splitters<2.0.0,>=1.0.0 in c:\\users\\avi\\source\\airepos\\ai-rag-pinecone-demo\\.venv\\lib\\site-packages (from langchain-classic<2.0.0,>=1.0.0->langchain-community) (1.0.0)\n",
      "Requirement already satisfied: jsonpatch<2.0.0,>=1.33.0 in c:\\users\\avi\\source\\airepos\\ai-rag-pinecone-demo\\.venv\\lib\\site-packages (from langchain-core<2.0.0,>=1.0.0->langchain) (1.33)\n",
      "Requirement already satisfied: packaging<26.0.0,>=23.2.0 in c:\\users\\avi\\source\\airepos\\ai-rag-pinecone-demo\\.venv\\lib\\site-packages (from langchain-core<2.0.0,>=1.0.0->langchain) (24.2)\n",
      "Requirement already satisfied: typing-extensions<5.0.0,>=4.7.0 in c:\\users\\avi\\source\\airepos\\ai-rag-pinecone-demo\\.venv\\lib\\site-packages (from langchain-core<2.0.0,>=1.0.0->langchain) (4.15.0)\n",
      "Requirement already satisfied: langgraph-checkpoint<4.0.0,>=2.1.0 in c:\\users\\avi\\source\\airepos\\ai-rag-pinecone-demo\\.venv\\lib\\site-packages (from langgraph<1.1.0,>=1.0.0->langchain) (3.0.0)\n",
      "Requirement already satisfied: langgraph-prebuilt<1.1.0,>=1.0.0 in c:\\users\\avi\\source\\airepos\\ai-rag-pinecone-demo\\.venv\\lib\\site-packages (from langgraph<1.1.0,>=1.0.0->langchain) (1.0.1)\n",
      "Requirement already satisfied: langgraph-sdk<0.3.0,>=0.2.2 in c:\\users\\avi\\source\\airepos\\ai-rag-pinecone-demo\\.venv\\lib\\site-packages (from langgraph<1.1.0,>=1.0.0->langchain) (0.2.9)\n",
      "Requirement already satisfied: xxhash>=3.5.0 in c:\\users\\avi\\source\\airepos\\ai-rag-pinecone-demo\\.venv\\lib\\site-packages (from langgraph<1.1.0,>=1.0.0->langchain) (3.6.0)\n",
      "Requirement already satisfied: httpx<1,>=0.23.0 in c:\\users\\avi\\source\\airepos\\ai-rag-pinecone-demo\\.venv\\lib\\site-packages (from langsmith<1.0.0,>=0.1.125->langchain-community) (0.28.1)\n",
      "Requirement already satisfied: orjson>=3.9.14 in c:\\users\\avi\\source\\airepos\\ai-rag-pinecone-demo\\.venv\\lib\\site-packages (from langsmith<1.0.0,>=0.1.125->langchain-community) (3.11.4)\n",
      "Requirement already satisfied: requests-toolbelt>=1.0.0 in c:\\users\\avi\\source\\airepos\\ai-rag-pinecone-demo\\.venv\\lib\\site-packages (from langsmith<1.0.0,>=0.1.125->langchain-community) (1.0.0)\n",
      "Requirement already satisfied: zstandard>=0.23.0 in c:\\users\\avi\\source\\airepos\\ai-rag-pinecone-demo\\.venv\\lib\\site-packages (from langsmith<1.0.0,>=0.1.125->langchain-community) (0.25.0)\n",
      "Requirement already satisfied: annotated-types>=0.6.0 in c:\\users\\avi\\source\\airepos\\ai-rag-pinecone-demo\\.venv\\lib\\site-packages (from pydantic<3.0.0,>=2.7.4->langchain) (0.7.0)\n",
      "Requirement already satisfied: pydantic-core==2.41.4 in c:\\users\\avi\\source\\airepos\\ai-rag-pinecone-demo\\.venv\\lib\\site-packages (from pydantic<3.0.0,>=2.7.4->langchain) (2.41.4)\n",
      "Requirement already satisfied: typing-inspection>=0.4.2 in c:\\users\\avi\\source\\airepos\\ai-rag-pinecone-demo\\.venv\\lib\\site-packages (from pydantic<3.0.0,>=2.7.4->langchain) (0.4.2)\n",
      "Requirement already satisfied: python-dotenv>=0.21.0 in c:\\users\\avi\\source\\airepos\\ai-rag-pinecone-demo\\.venv\\lib\\site-packages (from pydantic-settings<3.0.0,>=2.10.1->langchain-community) (1.1.1)\n",
      "Requirement already satisfied: charset_normalizer<4,>=2 in c:\\users\\avi\\source\\airepos\\ai-rag-pinecone-demo\\.venv\\lib\\site-packages (from requests<3.0.0,>=2.32.5->langchain-community) (3.4.4)\n",
      "Requirement already satisfied: idna<4,>=2.5 in c:\\users\\avi\\source\\airepos\\ai-rag-pinecone-demo\\.venv\\lib\\site-packages (from requests<3.0.0,>=2.32.5->langchain-community) (3.11)\n",
      "Requirement already satisfied: urllib3<3,>=1.21.1 in c:\\users\\avi\\source\\airepos\\ai-rag-pinecone-demo\\.venv\\lib\\site-packages (from requests<3.0.0,>=2.32.5->langchain-community) (2.5.0)\n",
      "Requirement already satisfied: certifi>=2017.4.17 in c:\\users\\avi\\source\\airepos\\ai-rag-pinecone-demo\\.venv\\lib\\site-packages (from requests<3.0.0,>=2.32.5->langchain-community) (2025.10.5)\n",
      "Requirement already satisfied: greenlet>=1 in c:\\users\\avi\\source\\airepos\\ai-rag-pinecone-demo\\.venv\\lib\\site-packages (from SQLAlchemy<3.0.0,>=1.4.0->langchain-community) (3.2.4)\n",
      "Requirement already satisfied: anyio in c:\\users\\avi\\source\\airepos\\ai-rag-pinecone-demo\\.venv\\lib\\site-packages (from httpx<1,>=0.23.0->langsmith<1.0.0,>=0.1.125->langchain-community) (4.11.0)\n",
      "Requirement already satisfied: httpcore==1.* in c:\\users\\avi\\source\\airepos\\ai-rag-pinecone-demo\\.venv\\lib\\site-packages (from httpx<1,>=0.23.0->langsmith<1.0.0,>=0.1.125->langchain-community) (1.0.9)\n",
      "Requirement already satisfied: h11>=0.16 in c:\\users\\avi\\source\\airepos\\ai-rag-pinecone-demo\\.venv\\lib\\site-packages (from httpcore==1.*->httpx<1,>=0.23.0->langsmith<1.0.0,>=0.1.125->langchain-community) (0.16.0)\n",
      "Requirement already satisfied: jsonpointer>=1.9 in c:\\users\\avi\\source\\airepos\\ai-rag-pinecone-demo\\.venv\\lib\\site-packages (from jsonpatch<2.0.0,>=1.33.0->langchain-core<2.0.0,>=1.0.0->langchain) (3.0.0)\n",
      "Requirement already satisfied: ormsgpack>=1.10.0 in c:\\users\\avi\\source\\airepos\\ai-rag-pinecone-demo\\.venv\\lib\\site-packages (from langgraph-checkpoint<4.0.0,>=2.1.0->langgraph<1.1.0,>=1.0.0->langchain) (1.11.0)\n",
      "Requirement already satisfied: mypy-extensions>=0.3.0 in c:\\users\\avi\\source\\airepos\\ai-rag-pinecone-demo\\.venv\\lib\\site-packages (from typing-inspect<1,>=0.4.0->dataclasses-json<0.7.0,>=0.6.7->langchain-community) (1.1.0)\n",
      "Requirement already satisfied: sniffio>=1.1 in c:\\users\\avi\\source\\airepos\\ai-rag-pinecone-demo\\.venv\\lib\\site-packages (from anyio->httpx<1,>=0.23.0->langsmith<1.0.0,>=0.1.125->langchain-community) (1.3.1)\n"
     ]
    }
   ],
   "source": [
    "!pip install langchain langchain-community\n",
    "from langchain_community.retrievers import PineconeHybridSearchRetriever"
   ]
  },
  {
   "cell_type": "code",
   "execution_count": 4,
   "id": "51b2261b",
   "metadata": {},
   "outputs": [
    {
     "name": "stdout",
     "output_type": "stream",
     "text": [
      "Requirement already satisfied: pinecone in c:\\users\\avi\\source\\airepos\\ai-rag-pinecone-demo\\.venv\\lib\\site-packages (7.3.0)\n",
      "Requirement already satisfied: certifi>=2019.11.17 in c:\\users\\avi\\source\\airepos\\ai-rag-pinecone-demo\\.venv\\lib\\site-packages (from pinecone) (2025.10.5)\n",
      "Requirement already satisfied: pinecone-plugin-assistant<2.0.0,>=1.6.0 in c:\\users\\avi\\source\\airepos\\ai-rag-pinecone-demo\\.venv\\lib\\site-packages (from pinecone) (1.8.0)\n",
      "Requirement already satisfied: pinecone-plugin-interface<0.0.8,>=0.0.7 in c:\\users\\avi\\source\\airepos\\ai-rag-pinecone-demo\\.venv\\lib\\site-packages (from pinecone) (0.0.7)\n",
      "Requirement already satisfied: python-dateutil>=2.5.3 in c:\\users\\avi\\source\\airepos\\ai-rag-pinecone-demo\\.venv\\lib\\site-packages (from pinecone) (2.9.0.post0)\n",
      "Requirement already satisfied: typing-extensions>=3.7.4 in c:\\users\\avi\\source\\airepos\\ai-rag-pinecone-demo\\.venv\\lib\\site-packages (from pinecone) (4.15.0)\n",
      "Requirement already satisfied: urllib3>=1.26.5 in c:\\users\\avi\\source\\airepos\\ai-rag-pinecone-demo\\.venv\\lib\\site-packages (from pinecone) (2.5.0)\n",
      "Requirement already satisfied: packaging<25.0,>=24.2 in c:\\users\\avi\\source\\airepos\\ai-rag-pinecone-demo\\.venv\\lib\\site-packages (from pinecone-plugin-assistant<2.0.0,>=1.6.0->pinecone) (24.2)\n",
      "Requirement already satisfied: requests<3.0.0,>=2.32.3 in c:\\users\\avi\\source\\airepos\\ai-rag-pinecone-demo\\.venv\\lib\\site-packages (from pinecone-plugin-assistant<2.0.0,>=1.6.0->pinecone) (2.32.5)\n",
      "Requirement already satisfied: six>=1.5 in c:\\users\\avi\\source\\airepos\\ai-rag-pinecone-demo\\.venv\\lib\\site-packages (from python-dateutil>=2.5.3->pinecone) (1.17.0)\n",
      "Requirement already satisfied: charset_normalizer<4,>=2 in c:\\users\\avi\\source\\airepos\\ai-rag-pinecone-demo\\.venv\\lib\\site-packages (from requests<3.0.0,>=2.32.3->pinecone-plugin-assistant<2.0.0,>=1.6.0->pinecone) (3.4.4)\n",
      "Requirement already satisfied: idna<4,>=2.5 in c:\\users\\avi\\source\\airepos\\ai-rag-pinecone-demo\\.venv\\lib\\site-packages (from requests<3.0.0,>=2.32.3->pinecone-plugin-assistant<2.0.0,>=1.6.0->pinecone) (3.11)\n"
     ]
    },
    {
     "name": "stderr",
     "output_type": "stream",
     "text": [
      "\n",
      "[notice] A new release of pip is available: 24.0 -> 25.3\n",
      "[notice] To update, run: python.exe -m pip install --upgrade pip\n"
     ]
    }
   ],
   "source": [
    "!pip install pinecone\n",
    "import os\n",
    "from pinecone import Pinecone, ServerlessSpec\n",
    "index_name = \"hybrid-search-langchain-pinecone\"\n",
    "# Initialize Pinecone client\n",
    "pc = Pinecone(api_key=api_key)\n",
    "\n",
    "# Create the Pinecone index\n",
    "if index_name not in pc.list_indexes().names():\n",
    "    pc.create_index(\n",
    "        name=index_name,\n",
    "        dimension=384, # chosen dimension of dense vector based on embedding technique (used later)\n",
    "        metric=\"dotproduct\", #sparse values supported only for dotproduct (for hybird search)\n",
    "        spec = ServerlessSpec(cloud='aws', region='us-east-1')\n",
    "    )"
   ]
  },
  {
   "cell_type": "code",
   "execution_count": 5,
   "id": "7d1f501a",
   "metadata": {},
   "outputs": [
    {
     "name": "stderr",
     "output_type": "stream",
     "text": [
      "c:\\Users\\Avi\\source\\airepos\\ai-rag-pinecone-demo\\.venv\\Lib\\site-packages\\tqdm\\auto.py:21: TqdmWarning: IProgress not found. Please update jupyter and ipywidgets. See https://ipywidgets.readthedocs.io/en/stable/user_install.html\n",
      "  from .autonotebook import tqdm as notebook_tqdm\n"
     ]
    },
    {
     "data": {
      "text/plain": [
       "<pinecone.db_data.index.Index at 0x2063da0e120>"
      ]
     },
     "execution_count": 5,
     "metadata": {},
     "output_type": "execute_result"
    }
   ],
   "source": [
    "index  = pc.Index(index_name)\n",
    "index"
   ]
  },
  {
   "cell_type": "code",
   "execution_count": 6,
   "id": "23d7194c",
   "metadata": {},
   "outputs": [
    {
     "name": "stdout",
     "output_type": "stream",
     "text": [
      "Requirement already satisfied: sentence-transformers in c:\\users\\avi\\source\\airepos\\ai-rag-pinecone-demo\\.venv\\lib\\site-packages (5.1.2)\n",
      "Requirement already satisfied: langchain-huggingface in c:\\users\\avi\\source\\airepos\\ai-rag-pinecone-demo\\.venv\\lib\\site-packages (1.0.0)\n",
      "Requirement already satisfied: torch in c:\\users\\avi\\source\\airepos\\ai-rag-pinecone-demo\\.venv\\lib\\site-packages (2.9.0)\n",
      "Requirement already satisfied: transformers<5.0.0,>=4.41.0 in c:\\users\\avi\\source\\airepos\\ai-rag-pinecone-demo\\.venv\\lib\\site-packages (from sentence-transformers) (4.57.1)\n",
      "Requirement already satisfied: tqdm in c:\\users\\avi\\source\\airepos\\ai-rag-pinecone-demo\\.venv\\lib\\site-packages (from sentence-transformers) (4.67.1)\n",
      "Requirement already satisfied: scikit-learn in c:\\users\\avi\\source\\airepos\\ai-rag-pinecone-demo\\.venv\\lib\\site-packages (from sentence-transformers) (1.7.2)\n",
      "Requirement already satisfied: scipy in c:\\users\\avi\\source\\airepos\\ai-rag-pinecone-demo\\.venv\\lib\\site-packages (from sentence-transformers) (1.16.2)\n",
      "Requirement already satisfied: huggingface-hub>=0.20.0 in c:\\users\\avi\\source\\airepos\\ai-rag-pinecone-demo\\.venv\\lib\\site-packages (from sentence-transformers) (0.36.0)\n",
      "Requirement already satisfied: Pillow in c:\\users\\avi\\source\\airepos\\ai-rag-pinecone-demo\\.venv\\lib\\site-packages (from sentence-transformers) (12.0.0)\n",
      "Requirement already satisfied: typing_extensions>=4.5.0 in c:\\users\\avi\\source\\airepos\\ai-rag-pinecone-demo\\.venv\\lib\\site-packages (from sentence-transformers) (4.15.0)\n",
      "Requirement already satisfied: langchain-core<2.0.0,>=1.0.0 in c:\\users\\avi\\source\\airepos\\ai-rag-pinecone-demo\\.venv\\lib\\site-packages (from langchain-huggingface) (1.0.1)\n",
      "Requirement already satisfied: tokenizers<1.0.0,>=0.19.1 in c:\\users\\avi\\source\\airepos\\ai-rag-pinecone-demo\\.venv\\lib\\site-packages (from langchain-huggingface) (0.22.1)\n",
      "Requirement already satisfied: filelock in c:\\users\\avi\\source\\airepos\\ai-rag-pinecone-demo\\.venv\\lib\\site-packages (from torch) (3.20.0)\n",
      "Requirement already satisfied: sympy>=1.13.3 in c:\\users\\avi\\source\\airepos\\ai-rag-pinecone-demo\\.venv\\lib\\site-packages (from torch) (1.14.0)\n",
      "Requirement already satisfied: networkx>=2.5.1 in c:\\users\\avi\\source\\airepos\\ai-rag-pinecone-demo\\.venv\\lib\\site-packages (from torch) (3.5)\n",
      "Requirement already satisfied: jinja2 in c:\\users\\avi\\source\\airepos\\ai-rag-pinecone-demo\\.venv\\lib\\site-packages (from torch) (3.1.6)\n",
      "Requirement already satisfied: fsspec>=0.8.5 in c:\\users\\avi\\source\\airepos\\ai-rag-pinecone-demo\\.venv\\lib\\site-packages (from torch) (2025.9.0)\n",
      "Requirement already satisfied: setuptools in c:\\users\\avi\\source\\airepos\\ai-rag-pinecone-demo\\.venv\\lib\\site-packages (from torch) (80.9.0)\n",
      "Requirement already satisfied: packaging>=20.9 in c:\\users\\avi\\source\\airepos\\ai-rag-pinecone-demo\\.venv\\lib\\site-packages (from huggingface-hub>=0.20.0->sentence-transformers) (24.2)\n",
      "Requirement already satisfied: pyyaml>=5.1 in c:\\users\\avi\\source\\airepos\\ai-rag-pinecone-demo\\.venv\\lib\\site-packages (from huggingface-hub>=0.20.0->sentence-transformers) (6.0.3)\n",
      "Requirement already satisfied: requests in c:\\users\\avi\\source\\airepos\\ai-rag-pinecone-demo\\.venv\\lib\\site-packages (from huggingface-hub>=0.20.0->sentence-transformers) (2.32.5)\n",
      "Requirement already satisfied: jsonpatch<2.0.0,>=1.33.0 in c:\\users\\avi\\source\\airepos\\ai-rag-pinecone-demo\\.venv\\lib\\site-packages (from langchain-core<2.0.0,>=1.0.0->langchain-huggingface) (1.33)\n",
      "Requirement already satisfied: langsmith<1.0.0,>=0.3.45 in c:\\users\\avi\\source\\airepos\\ai-rag-pinecone-demo\\.venv\\lib\\site-packages (from langchain-core<2.0.0,>=1.0.0->langchain-huggingface) (0.4.38)\n",
      "Requirement already satisfied: pydantic<3.0.0,>=2.7.4 in c:\\users\\avi\\source\\airepos\\ai-rag-pinecone-demo\\.venv\\lib\\site-packages (from langchain-core<2.0.0,>=1.0.0->langchain-huggingface) (2.12.3)\n",
      "Requirement already satisfied: tenacity!=8.4.0,<10.0.0,>=8.1.0 in c:\\users\\avi\\source\\airepos\\ai-rag-pinecone-demo\\.venv\\lib\\site-packages (from langchain-core<2.0.0,>=1.0.0->langchain-huggingface) (9.1.2)\n",
      "Requirement already satisfied: mpmath<1.4,>=1.1.0 in c:\\users\\avi\\source\\airepos\\ai-rag-pinecone-demo\\.venv\\lib\\site-packages (from sympy>=1.13.3->torch) (1.3.0)\n",
      "Requirement already satisfied: colorama in c:\\users\\avi\\source\\airepos\\ai-rag-pinecone-demo\\.venv\\lib\\site-packages (from tqdm->sentence-transformers) (0.4.6)\n",
      "Requirement already satisfied: numpy>=1.17 in c:\\users\\avi\\source\\airepos\\ai-rag-pinecone-demo\\.venv\\lib\\site-packages (from transformers<5.0.0,>=4.41.0->sentence-transformers) (2.3.4)\n",
      "Requirement already satisfied: regex!=2019.12.17 in c:\\users\\avi\\source\\airepos\\ai-rag-pinecone-demo\\.venv\\lib\\site-packages (from transformers<5.0.0,>=4.41.0->sentence-transformers) (2025.10.23)\n",
      "Requirement already satisfied: safetensors>=0.4.3 in c:\\users\\avi\\source\\airepos\\ai-rag-pinecone-demo\\.venv\\lib\\site-packages (from transformers<5.0.0,>=4.41.0->sentence-transformers) (0.6.2)\n",
      "Requirement already satisfied: MarkupSafe>=2.0 in c:\\users\\avi\\source\\airepos\\ai-rag-pinecone-demo\\.venv\\lib\\site-packages (from jinja2->torch) (3.0.3)\n",
      "Requirement already satisfied: joblib>=1.2.0 in c:\\users\\avi\\source\\airepos\\ai-rag-pinecone-demo\\.venv\\lib\\site-packages (from scikit-learn->sentence-transformers) (1.5.2)\n",
      "Requirement already satisfied: threadpoolctl>=3.1.0 in c:\\users\\avi\\source\\airepos\\ai-rag-pinecone-demo\\.venv\\lib\\site-packages (from scikit-learn->sentence-transformers) (3.6.0)\n",
      "Requirement already satisfied: jsonpointer>=1.9 in c:\\users\\avi\\source\\airepos\\ai-rag-pinecone-demo\\.venv\\lib\\site-packages (from jsonpatch<2.0.0,>=1.33.0->langchain-core<2.0.0,>=1.0.0->langchain-huggingface) (3.0.0)\n",
      "Requirement already satisfied: httpx<1,>=0.23.0 in c:\\users\\avi\\source\\airepos\\ai-rag-pinecone-demo\\.venv\\lib\\site-packages (from langsmith<1.0.0,>=0.3.45->langchain-core<2.0.0,>=1.0.0->langchain-huggingface) (0.28.1)\n",
      "Requirement already satisfied: orjson>=3.9.14 in c:\\users\\avi\\source\\airepos\\ai-rag-pinecone-demo\\.venv\\lib\\site-packages (from langsmith<1.0.0,>=0.3.45->langchain-core<2.0.0,>=1.0.0->langchain-huggingface) (3.11.4)\n",
      "Requirement already satisfied: requests-toolbelt>=1.0.0 in c:\\users\\avi\\source\\airepos\\ai-rag-pinecone-demo\\.venv\\lib\\site-packages (from langsmith<1.0.0,>=0.3.45->langchain-core<2.0.0,>=1.0.0->langchain-huggingface) (1.0.0)\n",
      "Requirement already satisfied: zstandard>=0.23.0 in c:\\users\\avi\\source\\airepos\\ai-rag-pinecone-demo\\.venv\\lib\\site-packages (from langsmith<1.0.0,>=0.3.45->langchain-core<2.0.0,>=1.0.0->langchain-huggingface) (0.25.0)\n",
      "Requirement already satisfied: annotated-types>=0.6.0 in c:\\users\\avi\\source\\airepos\\ai-rag-pinecone-demo\\.venv\\lib\\site-packages (from pydantic<3.0.0,>=2.7.4->langchain-core<2.0.0,>=1.0.0->langchain-huggingface) (0.7.0)\n",
      "Requirement already satisfied: pydantic-core==2.41.4 in c:\\users\\avi\\source\\airepos\\ai-rag-pinecone-demo\\.venv\\lib\\site-packages (from pydantic<3.0.0,>=2.7.4->langchain-core<2.0.0,>=1.0.0->langchain-huggingface) (2.41.4)\n",
      "Requirement already satisfied: typing-inspection>=0.4.2 in c:\\users\\avi\\source\\airepos\\ai-rag-pinecone-demo\\.venv\\lib\\site-packages (from pydantic<3.0.0,>=2.7.4->langchain-core<2.0.0,>=1.0.0->langchain-huggingface) (0.4.2)\n",
      "Requirement already satisfied: charset_normalizer<4,>=2 in c:\\users\\avi\\source\\airepos\\ai-rag-pinecone-demo\\.venv\\lib\\site-packages (from requests->huggingface-hub>=0.20.0->sentence-transformers) (3.4.4)\n",
      "Requirement already satisfied: idna<4,>=2.5 in c:\\users\\avi\\source\\airepos\\ai-rag-pinecone-demo\\.venv\\lib\\site-packages (from requests->huggingface-hub>=0.20.0->sentence-transformers) (3.11)\n",
      "Requirement already satisfied: urllib3<3,>=1.21.1 in c:\\users\\avi\\source\\airepos\\ai-rag-pinecone-demo\\.venv\\lib\\site-packages (from requests->huggingface-hub>=0.20.0->sentence-transformers) (2.5.0)\n",
      "Requirement already satisfied: certifi>=2017.4.17 in c:\\users\\avi\\source\\airepos\\ai-rag-pinecone-demo\\.venv\\lib\\site-packages (from requests->huggingface-hub>=0.20.0->sentence-transformers) (2025.10.5)\n",
      "Requirement already satisfied: anyio in c:\\users\\avi\\source\\airepos\\ai-rag-pinecone-demo\\.venv\\lib\\site-packages (from httpx<1,>=0.23.0->langsmith<1.0.0,>=0.3.45->langchain-core<2.0.0,>=1.0.0->langchain-huggingface) (4.11.0)\n",
      "Requirement already satisfied: httpcore==1.* in c:\\users\\avi\\source\\airepos\\ai-rag-pinecone-demo\\.venv\\lib\\site-packages (from httpx<1,>=0.23.0->langsmith<1.0.0,>=0.3.45->langchain-core<2.0.0,>=1.0.0->langchain-huggingface) (1.0.9)\n",
      "Requirement already satisfied: h11>=0.16 in c:\\users\\avi\\source\\airepos\\ai-rag-pinecone-demo\\.venv\\lib\\site-packages (from httpcore==1.*->httpx<1,>=0.23.0->langsmith<1.0.0,>=0.3.45->langchain-core<2.0.0,>=1.0.0->langchain-huggingface) (0.16.0)\n",
      "Requirement already satisfied: sniffio>=1.1 in c:\\users\\avi\\source\\airepos\\ai-rag-pinecone-demo\\.venv\\lib\\site-packages (from anyio->httpx<1,>=0.23.0->langsmith<1.0.0,>=0.3.45->langchain-core<2.0.0,>=1.0.0->langchain-huggingface) (1.3.1)\n"
     ]
    },
    {
     "name": "stderr",
     "output_type": "stream",
     "text": [
      "\n",
      "[notice] A new release of pip is available: 24.0 -> 25.3\n",
      "[notice] To update, run: python.exe -m pip install --upgrade pip\n"
     ]
    },
    {
     "data": {
      "text/plain": [
       "HuggingFaceEmbeddings(model_name='all-MiniLM-L6-v2', cache_folder=None, model_kwargs={}, encode_kwargs={}, query_encode_kwargs={}, multi_process=False, show_progress=False)"
      ]
     },
     "execution_count": 6,
     "metadata": {},
     "output_type": "execute_result"
    }
   ],
   "source": [
    "!pip install sentence-transformers langchain-huggingface torch\n",
    "# vector embedding and sparse matrix\n",
    "import os\n",
    "from dotenv import load_dotenv\n",
    "load_dotenv()\n",
    "\n",
    "from langchain_huggingface import HuggingFaceEmbeddings\n",
    "embeddings=HuggingFaceEmbeddings(model_name=\"all-MiniLM-L6-v2\")\n",
    "embeddings"
   ]
  },
  {
   "cell_type": "code",
   "execution_count": 7,
   "id": "d092ac0d",
   "metadata": {},
   "outputs": [
    {
     "name": "stdout",
     "output_type": "stream",
     "text": [
      "384 [-0.03447727859020233, 0.031023195013403893, 0.0067350007593631744, 0.02610897831618786, -0.03936203941702843]\n"
     ]
    }
   ],
   "source": [
    "test = embeddings.embed_query(\"hello world\")\n",
    "print(len(test), test[:5])"
   ]
  },
  {
   "cell_type": "code",
   "execution_count": 8,
   "id": "89fb8f57",
   "metadata": {},
   "outputs": [
    {
     "data": {
      "text/plain": [
       "<pinecone_text.sparse.bm25_encoder.BM25Encoder at 0x20600e231d0>"
      ]
     },
     "execution_count": 8,
     "metadata": {},
     "output_type": "execute_result"
    }
   ],
   "source": [
    "from pinecone_text.sparse import BM25Encoder\n",
    "\n",
    "bm25_encoder = BM25Encoder().default()\n",
    "bm25_encoder"
   ]
  },
  {
   "cell_type": "code",
   "execution_count": 9,
   "id": "838ee7b9",
   "metadata": {},
   "outputs": [
    {
     "name": "stderr",
     "output_type": "stream",
     "text": [
      "100%|██████████| 3/3 [00:00<00:00, 41.62it/s]\n"
     ]
    }
   ],
   "source": [
    "sentences = [\n",
    "    \"In 2023 I visited Paris\",\n",
    "    \"In 2022, I visited New York\",\n",
    "    \"In 2021, I visited London\",\n",
    "]\n",
    "\n",
    "#tfidf values on these sentences\n",
    "bm25_encoder.fit(sentences)\n",
    "\n",
    "#store the values to a json file\n",
    "bm25_encoder.dump(\"bm25_values.json\")\n",
    "\n",
    "#load the values from the json file\n",
    "bm25_encoder = BM25Encoder().load(\"bm25_values.json\")"
   ]
  },
  {
   "cell_type": "code",
   "execution_count": 10,
   "id": "81a0523b",
   "metadata": {},
   "outputs": [
    {
     "data": {
      "text/plain": [
       "PineconeHybridSearchRetriever(embeddings=HuggingFaceEmbeddings(model_name='all-MiniLM-L6-v2', cache_folder=None, model_kwargs={}, encode_kwargs={}, query_encode_kwargs={}, multi_process=False, show_progress=False), sparse_encoder=<pinecone_text.sparse.bm25_encoder.BM25Encoder object at 0x000002063E65B8F0>, index=<pinecone.db_data.index.Index object at 0x000002063DA0E120>)"
      ]
     },
     "execution_count": 10,
     "metadata": {},
     "output_type": "execute_result"
    }
   ],
   "source": [
    "retriever = PineconeHybridSearchRetriever(embeddings=embeddings,\n",
    "                                          sparse_encoder=bm25_encoder,\n",
    "                                          index=index)\n",
    "retriever"
   ]
  },
  {
   "cell_type": "code",
   "execution_count": 11,
   "id": "681cffae",
   "metadata": {},
   "outputs": [
    {
     "name": "stderr",
     "output_type": "stream",
     "text": [
      "100%|██████████| 1/1 [00:01<00:00,  1.80s/it]\n"
     ]
    }
   ],
   "source": [
    "retriever.add_texts(sentences)"
   ]
  },
  {
   "cell_type": "code",
   "execution_count": 12,
   "id": "7da40e60",
   "metadata": {},
   "outputs": [
    {
     "data": {
      "text/plain": [
       "[Document(metadata={'score': 0.471748412}, page_content='In 2022, I visited New York'),\n",
       " Document(metadata={'score': 0.234191418}, page_content='In 2023 I visited Paris'),\n",
       " Document(metadata={'score': 0.149339199}, page_content='In 2021, I visited London')]"
      ]
     },
     "execution_count": 12,
     "metadata": {},
     "output_type": "execute_result"
    }
   ],
   "source": [
    "retriever.invoke(\"What about 2022?\") #internally, it uses both dense and sparse search"
   ]
  },
  {
   "cell_type": "code",
   "execution_count": null,
   "id": "6db11cf7",
   "metadata": {},
   "outputs": [],
   "source": []
  }
 ],
 "metadata": {
  "kernelspec": {
   "display_name": ".venv (3.12.3)",
   "language": "python",
   "name": "python3"
  },
  "language_info": {
   "codemirror_mode": {
    "name": "ipython",
    "version": 3
   },
   "file_extension": ".py",
   "mimetype": "text/x-python",
   "name": "python",
   "nbconvert_exporter": "python",
   "pygments_lexer": "ipython3",
   "version": "3.12.3"
  }
 },
 "nbformat": 4,
 "nbformat_minor": 5
}
